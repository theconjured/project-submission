{
 "cells": [
  {
   "cell_type": "code",
   "execution_count": 1,
   "metadata": {},
   "outputs": [],
   "source": [
    "import cv2 as cv\n",
    "#import tkinter as tk\n",
    "#import tkfilebrowser as filedialog\n",
    "import numpy as np\n",
    "import sqlite3\n",
    "import pandas as pd"
   ]
  },
  {
   "cell_type": "code",
   "execution_count": null,
   "metadata": {},
   "outputs": [],
   "source": []
  },
  {
   "cell_type": "markdown",
   "metadata": {},
   "source": [
    "def fetch(entries):\n",
    "    for entry in entries:\n",
    "        field=entry[0]\n",
    "        text=entry[1].get()\n",
    "        \n",
    "        \n",
    "def makeform(root,fields):\n",
    "    entries=[]\n",
    "    for field in fields:\n",
    "        row=tk.Frame(root)\n",
    "        lab=tk.Label(row,width=15,text=field,anchor='w')\n",
    "        ent=tk.Entry(row)\n",
    "        row.pack(side=tk.TOP,fill=tk.X,padx=5,pady=5)\n",
    "        lab.pack(side=tk.LEFT)\n",
    "        ent.pack(side=tk.RIGHT,expand=tk.YES,fill=tk.X)\n",
    "        entries.append((field,ent))\n",
    "    \n",
    "    return entries\n",
    "\n",
    "def show_entry_fields():\n",
    "    print(\"height: %s\\n weight: %s\\n brand of top: %s\\n size of top: %s\\n\"+\n",
    "          \"brand of bottom: %s\\n size of bottom: %s\" % ()\n",
    ")\n",
    "fields= \"email\",\"height\",\"weight\",\"brand of top\",\"size of top\",\"brand of bottom\",\"size of bottom\",\"file_path\"\n",
    "master=tk.Tk()    \n"
   ]
  },
  {
   "cell_type": "code",
   "execution_count": 3,
   "metadata": {},
   "outputs": [],
   "source": [
    "db_name='user.db'\n",
    "conn=sqlite3.connect('user.db')\n",
    "curs=conn.cursor()"
   ]
  },
  {
   "cell_type": "code",
   "execution_count": null,
   "metadata": {},
   "outputs": [],
   "source": [
    "####  create tables in DB\n",
    "curs.execute(\"CREATE TABLE user_info(email varchar(30), height n(2), weight n(3), file_path varchar(30));\")\n",
    "curs.execute(\"CREATE TABLE video(file_path varchar(30),brand_of_top varchar(30),size_of_top n(2), brand_of_bottom varchar(30),size_of_bottom n(2));\")"
   ]
  },
  {
   "cell_type": "code",
   "execution_count": null,
   "metadata": {},
   "outputs": [],
   "source": [
    "curs.execute(\"\"\"DROP TABLE user_info2\"\"\")"
   ]
  },
  {
   "cell_type": "code",
   "execution_count": 4,
   "metadata": {},
   "outputs": [],
   "source": [
    "def newData():      #######  collect from user and save to DB\n",
    "    email=input('email address:')\n",
    "    height=input('height in inches:')\n",
    "    weight=input('weight in pounds:')\n",
    "    bt=input('brand of top:')\n",
    "    st=input('size of top:')\n",
    "    bb=input('brand of bottom:')\n",
    "    sb=input('size of bottom:')\n",
    "    path=input('video or image path:')\n",
    "    #cap=cv.VideoCapture(path)\n",
    "    curs.execute(\"\"\"\n",
    "            INSERT INTO user_info(email,height,weight,file_path)\n",
    "            VALUES (?,?,?,?)\"\"\", (email,height,weight,path))\n",
    "    conn.commit()\n",
    "    curs.execute(\"\"\"\n",
    "            INSERT INTO video(file_path,brand_of_top,size_of_top,brand_of_bottom,size_of_bottom)\n",
    "            VALUES (?,?,?,?,?)\"\"\", (path,bt,st,bb,sb))\n",
    "    conn.commit()\n",
    "    print('Success')\n",
    "    #conn.close()"
   ]
  },
  {
   "cell_type": "code",
   "execution_count": 27,
   "metadata": {},
   "outputs": [
    {
     "name": "stdout",
     "output_type": "stream",
     "text": [
      "email address:cwade@buffalo.edu\n",
      "height in inches:70\n",
      "weight in pounds:168\n",
      "brand of top:carhart\n",
      "size of top:3\n",
      "brand of bottom:wrangler\n",
      "size of bottom:32\n",
      "video or image path:WIN_20200503_20_49_39_PRO\n",
      "Success\n"
     ]
    }
   ],
   "source": [
    "newData()\n",
    "##  add data"
   ]
  },
  {
   "cell_type": "code",
   "execution_count": 46,
   "metadata": {},
   "outputs": [],
   "source": [
    "### write frames of video to image\n",
    "def getFrame(sec):\n",
    "    #cap.set(cv.CAP_PROP_POS_MSEC,sec*1000)\n",
    "    hasFrames,image = cap.read()\n",
    "    if hasFrames:\n",
    "        retval=cv.imwrite(\"image\"+str(count)+\".jpg\", image)\n",
    "        imageList.append(retval)    \n",
    "    #return retval"
   ]
  },
  {
   "cell_type": "code",
   "execution_count": 49,
   "metadata": {},
   "outputs": [],
   "source": [
    "# creating function to more rapidly convert all video to image arrays\n",
    "\n",
    "def convert_video(file):\n",
    "    cap=cv.VideoCapture(file)\n",
    "    sec=0\n",
    "    count=1\n",
    "    imageList=[]\n",
    "    success=getFrame(sec)\n",
    "    #framerate=1\n",
    "    while success:\n",
    "        count=count+1\n",
    "        sec+=1\n",
    "        success=getFrame(sec)\n",
    "    return imageList   "
   ]
  },
  {
   "cell_type": "code",
   "execution_count": 14,
   "metadata": {},
   "outputs": [],
   "source": [
    "cap=cv.VideoCapture('WIN_20200503_20_49_39_Pro.mp4')  \n",
    "sec=0\n",
    "count=1\n",
    "    \n",
    "success=getFrame(sec)\n",
    "framerate=.5\n",
    "while success:\n",
    "    count=count+1\n",
    "    sec=round(sec+framerate,2)\n",
    "    success=getFrame(sec)"
   ]
  },
  {
   "cell_type": "code",
   "execution_count": 36,
   "metadata": {},
   "outputs": [],
   "source": []
  },
  {
   "cell_type": "code",
   "execution_count": 50,
   "metadata": {},
   "outputs": [
    {
     "data": {
      "text/plain": [
       "[]"
      ]
     },
     "execution_count": 50,
     "metadata": {},
     "output_type": "execute_result"
    }
   ],
   "source": [
    "convert_video('WIN_20200503_20_49_39_Pro.mp4')\n",
    "#cv.imshow(working)"
   ]
  },
  {
   "cell_type": "code",
   "execution_count": 45,
   "metadata": {},
   "outputs": [
    {
     "ename": "IndexError",
     "evalue": "list index out of range",
     "output_type": "error",
     "traceback": [
      "\u001b[1;31m---------------------------------------------------------------------------\u001b[0m",
      "\u001b[1;31mIndexError\u001b[0m                                Traceback (most recent call last)",
      "\u001b[1;32m<ipython-input-45-65d54a062fe4>\u001b[0m in \u001b[0;36m<module>\u001b[1;34m\u001b[0m\n\u001b[1;32m----> 1\u001b[1;33m \u001b[0mimageList\u001b[0m\u001b[1;33m[\u001b[0m\u001b[1;36m0\u001b[0m\u001b[1;33m]\u001b[0m\u001b[1;33m.\u001b[0m\u001b[0mimshow\u001b[0m\u001b[1;33m(\u001b[0m\u001b[1;33m)\u001b[0m\u001b[1;33m\u001b[0m\u001b[1;33m\u001b[0m\u001b[0m\n\u001b[0m",
      "\u001b[1;31mIndexError\u001b[0m: list index out of range"
     ]
    }
   ],
   "source": [
    "imageList[0].imshow()"
   ]
  },
  {
   "cell_type": "code",
   "execution_count": 12,
   "metadata": {},
   "outputs": [],
   "source": [
    "from PIL import Image\n",
    "from PIL import ImageEnhance\n",
    "from PIL import ImageFilter"
   ]
  },
  {
   "cell_type": "code",
   "execution_count": 21,
   "metadata": {},
   "outputs": [],
   "source": [
    "img2=Image.open('Pictures/DSC_1253.JPG')"
   ]
  },
  {
   "cell_type": "code",
   "execution_count": 22,
   "metadata": {},
   "outputs": [],
   "source": [
    "img2.show()"
   ]
  },
  {
   "cell_type": "code",
   "execution_count": 26,
   "metadata": {},
   "outputs": [],
   "source": [
    "#img2b=img2.convert('RGB')\n",
    "\n",
    "b=img2.filter(ImageFilter.MinFilter(5))\n",
    "c=img2.filter(ImageFilter.UnsharpMask(3,150,3))\n",
    "e=ImageEnhance.Sharpness(b)\n",
    "e.enhance(10).show()\n",
    "c.show()"
   ]
  },
  {
   "cell_type": "code",
   "execution_count": null,
   "metadata": {},
   "outputs": [],
   "source": [
    "import rasterio\n",
    "from rasterio.enums import Resampling\n",
    "\n",
    "upscale_factor = 5\n",
    "\n",
    "with rasterio.open() as dataset:\n",
    "\n",
    "    # resample data to target shape\n",
    "    data = dataset.read(\n",
    "        out_shape=(\n",
    "            dataset.count,\n",
    "            int(dataset.height * upscale_factor),\n",
    "            int(dataset.width * upscale_factor)\n",
    "        ),\n",
    "        resampling=Resampling.bilinear\n",
    "    )\n",
    "\n",
    "    # scale image transform\n",
    "    transform = dataset.transform * dataset.transform.scale(\n",
    "        (dataset.width / data.shape[-1]),\n",
    "        (dataset.height / data.shape[-2])\n",
    "    )"
   ]
  },
  {
   "cell_type": "code",
   "execution_count": null,
   "metadata": {},
   "outputs": [],
   "source": [
    "r.show()"
   ]
  }
 ],
 "metadata": {
  "kernelspec": {
   "display_name": "Python 3",
   "language": "python",
   "name": "python3"
  },
  "language_info": {
   "codemirror_mode": {
    "name": "ipython",
    "version": 3
   },
   "file_extension": ".py",
   "mimetype": "text/x-python",
   "name": "python",
   "nbconvert_exporter": "python",
   "pygments_lexer": "ipython3",
   "version": "3.7.3"
  }
 },
 "nbformat": 4,
 "nbformat_minor": 2
}
